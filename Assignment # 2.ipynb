{
 "cells": [
  {
   "cell_type": "markdown",
   "metadata": {},
   "source": [
    "# Python Programming Language\n",
    "# Assignment # 2\n",
    "# Name: Wajid Ali\n"
   ]
  },
  {
   "cell_type": "markdown",
   "metadata": {},
   "source": [
    "1. Write a program which takes 5 inputs from user for different subject’s\n",
    "   marks, total it and generate mark sheet using grades ?"
   ]
  },
  {
   "cell_type": "code",
   "execution_count": 2,
   "metadata": {},
   "outputs": [
    {
     "name": "stdout",
     "output_type": "stream",
     "text": [
      "Enter Physics Marks: 100\n",
      "Enter Chemistry Marks: 100\n",
      "Enter Maths Marks: 100\n",
      "Enter Urdu Marks: 100\n",
      "Enter English Marks: 100\n",
      "Total Marks:  500.0\n",
      "Grade: A1\n"
     ]
    }
   ],
   "source": [
    "physics =float(input(\"Enter Physics Marks: \"))\n",
    "chemistry =float(input(\"Enter Chemistry Marks: \"))\n",
    "maths =float(input(\"Enter Maths Marks: \"))\n",
    "urdu =float(input(\"Enter Urdu Marks: \"))\n",
    "english =float(input(\"Enter English Marks: \"))\n",
    "totalm=500\n",
    "total = physics + chemistry + maths + urdu + english\n",
    "per = (total * 100)/totalm\n",
    "print(\"Total Marks: \",total)\n",
    "if per>89:\n",
    "    print(\"Grade: A1\")\n",
    "elif per>79:\n",
    "    print(\"Grade: A+\")\n",
    "elif per>69:\n",
    "    print(\"Grade: A\")\n",
    "elif per>59:\n",
    "    print(\"Grade: B\")\n",
    "elif per>49:\n",
    "    print(\"Grade: C\")\n",
    "elif per>39:\n",
    "    print(\"Grade: D\")\n",
    "else:\n",
    "    print(\"Fail\")\n"
   ]
  },
  {
   "cell_type": "markdown",
   "metadata": {},
   "source": [
    "2. Write a program which take input from user and identify that the given\n",
    "   number is even or odd?"
   ]
  },
  {
   "cell_type": "code",
   "execution_count": 13,
   "metadata": {},
   "outputs": [
    {
     "name": "stdout",
     "output_type": "stream",
     "text": [
      "Enter any number: 139\n",
      "139  is odd number\n"
     ]
    }
   ],
   "source": [
    "num = int(input(\"Enter any number: \"))\n",
    "if (num%2)==0:\n",
    "    print(num,\" is even number\")\n",
    "else:\n",
    "    print(num,\" is odd number\")"
   ]
  },
  {
   "cell_type": "markdown",
   "metadata": {},
   "source": [
    "3. Write a program which print the length of the list?"
   ]
  },
  {
   "cell_type": "code",
   "execution_count": 28,
   "metadata": {},
   "outputs": [
    {
     "name": "stdout",
     "output_type": "stream",
     "text": [
      "4\n"
     ]
    }
   ],
   "source": [
    "names = ['wajid', 'majid', 'abid', 'sajid']\n",
    "print(len(names))"
   ]
  },
  {
   "cell_type": "markdown",
   "metadata": {},
   "source": [
    "4. Write a Python program to sum all the numeric items in a list?"
   ]
  },
  {
   "cell_type": "code",
   "execution_count": 29,
   "metadata": {},
   "outputs": [
    {
     "name": "stdout",
     "output_type": "stream",
     "text": [
      "15\n"
     ]
    }
   ],
   "source": [
    "numbers = [1,2,3,4,5]\n",
    "print(sum(numbers))"
   ]
  },
  {
   "cell_type": "markdown",
   "metadata": {},
   "source": [
    "5. Write a Python program to get the largest number from a numeric list."
   ]
  },
  {
   "cell_type": "code",
   "execution_count": 30,
   "metadata": {},
   "outputs": [
    {
     "name": "stdout",
     "output_type": "stream",
     "text": [
      "5\n"
     ]
    }
   ],
   "source": [
    "numbers = [1,2,3,4,5]\n",
    "print(max(numbers))"
   ]
  },
  {
   "cell_type": "markdown",
   "metadata": {},
   "source": [
    "6. Take a list, say for example this one:\n",
    "   a = [1, 1, 2, 3, 5, 8, 13, 21, 34, 55, 89]\n",
    "   and write a program that prints out all the elements of the list that are\n",
    "   less than 5."
   ]
  },
  {
   "cell_type": "code",
   "execution_count": 33,
   "metadata": {},
   "outputs": [
    {
     "name": "stdout",
     "output_type": "stream",
     "text": [
      "[1, 1, 2, 3]\n"
     ]
    }
   ],
   "source": [
    "a = [1, 1, 2, 3, 5, 8, 13, 21, 34, 55, 89]\n",
    "a_new=[]\n",
    "for item in a:\n",
    "    if item < 5:\n",
    "        a_new.append(item)        \n",
    "print(a_new)\n"
   ]
  }
 ],
 "metadata": {
  "kernelspec": {
   "display_name": "Python 3",
   "language": "python",
   "name": "python3"
  },
  "language_info": {
   "codemirror_mode": {
    "name": "ipython",
    "version": 3
   },
   "file_extension": ".py",
   "mimetype": "text/x-python",
   "name": "python",
   "nbconvert_exporter": "python",
   "pygments_lexer": "ipython3",
   "version": "3.7.3"
  }
 },
 "nbformat": 4,
 "nbformat_minor": 2
}
